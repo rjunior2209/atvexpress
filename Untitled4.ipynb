{
  "nbformat": 4,
  "nbformat_minor": 0,
  "metadata": {
    "colab": {
      "provenance": [],
      "authorship_tag": "ABX9TyNihWWHHYe1cfdY9PlgsCfk",
      "include_colab_link": true
    },
    "kernelspec": {
      "name": "python3",
      "display_name": "Python 3"
    },
    "language_info": {
      "name": "python"
    }
  },
  "cells": [
    {
      "cell_type": "markdown",
      "metadata": {
        "id": "view-in-github",
        "colab_type": "text"
      },
      "source": [
        "<a href=\"https://colab.research.google.com/github/rjunior2209/atvexpress/blob/main/Untitled4.ipynb\" target=\"_parent\"><img src=\"https://colab.research.google.com/assets/colab-badge.svg\" alt=\"Open In Colab\"/></a>"
      ]
    },
    {
      "cell_type": "code",
      "source": [],
      "metadata": {
        "id": "1oHp9L5_laK1"
      },
      "execution_count": null,
      "outputs": []
    },
    {
      "cell_type": "code",
      "execution_count": null,
      "metadata": {
        "id": "DBBfNw-TlOau"
      },
      "outputs": [],
      "source": [
        "import pandas as pd\n",
        "df = pd.read_csv('natacao.csv')"
      ]
    },
    {
      "cell_type": "markdown",
      "source": [
        "Identifique e responda, qual a variável estatística representada em cada coluna do dataframe?\n",
        "\n",
        "Variaveis Qualitativas\n",
        "Nominal:SedeRevesamento,Genero,Equipe,Atleta,Estilo,Sede\n",
        "\n",
        "Ordinais:\n",
        "\n",
        "Variavies Quantitativas\n",
        "Discretas:Distancia,Tempo,Posicao\n",
        "\n",
        "Continuas:Ano\n"
      ],
      "metadata": {
        "id": "_xA63qGXlk1n"
      }
    },
    {
      "cell_type": "markdown",
      "source": [
        "2-Identifique e responda, qual a medida de resumo mais adequada para cada variável numérica? justifique cada uma delas.\n",
        "\n",
        "\n",
        "Ano:Moda:utilizando a moda podemos saber qual mais se repete\n",
        "\n",
        "Distancia:Mediana: è o q melhor encaixa na situação\n",
        "\n",
        "Tempo:Media: pois assim conseguimos tirar a base media de tmepo do ano em questao\n",
        "\n",
        "Posição:Media: pois assim conseguimos tirar a base media da posicao em questao"
      ],
      "metadata": {
        "id": "18Te2GYml55m"
      }
    },
    {
      "cell_type": "markdown",
      "source": [
        "3-Qual atleta teve o maior número de participações em provas masculinas?"
      ],
      "metadata": {
        "id": "HRioUMtlmL0m"
      }
    },
    {
      "cell_type": "code",
      "source": [
        "[df['Atleta'].describe()]"
      ],
      "metadata": {
        "id": "lAuaQUTbmNH_"
      },
      "execution_count": null,
      "outputs": []
    },
    {
      "cell_type": "markdown",
      "source": [
        "4-Qual atleta teve o maior número de participações em provas femininas?"
      ],
      "metadata": {
        "id": "LVguy7ICmVDo"
      }
    },
    {
      "cell_type": "code",
      "source": [
        "feminino = df[df['Genero']== 'Feminino']\n",
        "feminino"
      ],
      "metadata": {
        "id": "fZZG69f8maOH"
      },
      "execution_count": null,
      "outputs": []
    },
    {
      "cell_type": "code",
      "source": [
        "feminino['Atleta'].describe()"
      ],
      "metadata": {
        "id": "WX4Tj_MWmfwC"
      },
      "execution_count": null,
      "outputs": []
    },
    {
      "cell_type": "markdown",
      "source": [],
      "metadata": {
        "id": "dphCpq22mkmj"
      }
    },
    {
      "cell_type": "markdown",
      "source": [
        "5-Qual pais conquistou o maior número de medalhas de bronze?"
      ],
      "metadata": {
        "id": "z8vmZszcmmlJ"
      }
    },
    {
      "cell_type": "code",
      "source": [
        "posicao = df[df['Posicao']== 3]\n",
        "posicao"
      ],
      "metadata": {
        "id": "idScn3PPmsEY"
      },
      "execution_count": null,
      "outputs": []
    },
    {
      "cell_type": "code",
      "source": [
        "posicao['Equipe'].describe()"
      ],
      "metadata": {
        "id": "D3mtxWDUmyOu"
      },
      "execution_count": null,
      "outputs": []
    }
  ]
}